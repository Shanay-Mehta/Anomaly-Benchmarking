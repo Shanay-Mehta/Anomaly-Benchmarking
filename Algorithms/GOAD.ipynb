{
  "nbformat": 4,
  "nbformat_minor": 0,
  "metadata": {
    "colab": {
      "provenance": [],
      "authorship_tag": "ABX9TyN93dZNquJJSke5MIP5nTZE"
    },
    "kernelspec": {
      "name": "python3",
      "display_name": "Python 3"
    },
    "language_info": {
      "name": "python"
    }
  },
  "cells": [
    {
      "cell_type": "code",
      "execution_count": null,
      "metadata": {
        "id": "00oI476KjdtS"
      },
      "outputs": [],
      "source": [
        "!pip install deepod"
      ]
    },
    {
      "cell_type": "code",
      "source": [
        "import numpy as np\n",
        "import pandas as pd\n",
        "import math\n",
        "import sklearn.metrics as metrics\n",
        "from sklearn.metrics import roc_curve, auc\n",
        "from deepod.models.goad import GOAD"
      ],
      "metadata": {
        "id": "CZUHqVfKjtvh"
      },
      "execution_count": null,
      "outputs": []
    },
    {
      "cell_type": "code",
      "source": [
        "data = pd.read_csv('23_mammography.csv')"
      ],
      "metadata": {
        "id": "fNyEQ839juwm"
      },
      "execution_count": null,
      "outputs": []
    },
    {
      "cell_type": "code",
      "source": [
        "X = data.iloc[:, :-1].values\n",
        "y_true = data.iloc[:, -1].values\n",
        "\n",
        "X_train=[]\n",
        "\n",
        "normal_data = X[y_true == 0]\n",
        "\n",
        "\n",
        "train_threshold = math.floor(0.7 * len(data))\n",
        "for i in range(train_threshold):\n",
        "    X_train.append(normal_data[i])\n",
        "# X_train=normal_data\n",
        "X_test=X\n",
        "X_train = np.array(X_train)"
      ],
      "metadata": {
        "id": "pNtIMcTrjwBU"
      },
      "execution_count": null,
      "outputs": []
    },
    {
      "cell_type": "code",
      "source": [
        "X_train_df = pd.DataFrame(X_train)"
      ],
      "metadata": {
        "id": "L1lSMipvlss2"
      },
      "execution_count": null,
      "outputs": []
    },
    {
      "cell_type": "code",
      "source": [
        "clf_goad = GOAD().fit(X_train_df)\n",
        "y_pred_test_goad = clf_goad.predict(X_test)\n",
        "\n",
        "precision_goad = metrics.precision_score(y_true, y_pred_test_goad)\n",
        "recall_goad = metrics.recall_score(y_true, y_pred_test_goad)\n",
        "f1_score_goad = metrics.f1_score(y_true, y_pred_test_goad)\n",
        "\n",
        "# Calculate ROC curve\n",
        "fpr_goad, tpr_goad, _ = roc_curve(y_true, y_pred_test_goad)\n",
        "\n",
        "# Calculate AUC (Area Under the ROC Curve)\n",
        "auc_roc_goad = auc(fpr_goad, tpr_goad)\n",
        "\n",
        "print(\"\\nPrecision for GOAD: {:.4f}\".format(precision_goad))\n",
        "print(\"Recall for GOAD: {:.4f}\".format(recall_goad))\n",
        "print(\"F1-score for GOAD: {:.4f}\".format(f1_score_goad))\n",
        "print(\"AUC-ROC for GOAD: {:.4f}\".format(auc_roc_goad))"
      ],
      "metadata": {
        "id": "VlWZk3urjxrj"
      },
      "execution_count": null,
      "outputs": []
    }
  ]
}