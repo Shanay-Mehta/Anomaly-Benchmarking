{
  "cells": [
    {
      "cell_type": "code",
      "execution_count": null,
      "metadata": {
        "id": "_G35W2FRouqZ"
      },
      "outputs": [],
      "source": [
        "!pip install pyod"
      ]
    },
    {
      "cell_type": "code",
      "execution_count": null,
      "metadata": {
        "id": "2JHhCpvJnPZn"
      },
      "outputs": [],
      "source": [
        "import pandas as pd\n",
        "from sklearn.model_selection import train_test_split\n",
        "from pyod.models.lof import LOF\n",
        "import sklearn.metrics as metrics\n",
        "from sklearn.metrics import roc_curve, auc"
      ]
    },
    {
      "cell_type": "code",
      "execution_count": null,
      "metadata": {
        "id": "NHDOYZ_tnLuL"
      },
      "outputs": [],
      "source": [
        "data = pd.read_csv('4_breastw.csv')\n",
        "y_true=data.iloc[:, -1]\n",
        "result = data.iloc[:, :-1]\n",
        "\n",
        "# Split the data into training and testing sets\n",
        "X_train, X_test, y_train, y_test = train_test_split(result, y_true, test_size=0.3, random_state=42)\n",
        "X_test=result"
      ]
    },
    {
      "cell_type": "code",
      "execution_count": null,
      "metadata": {
        "id": "x_37BTgym8fp"
      },
      "outputs": [],
      "source": [
        "clf = LOF().fit(X_train)\n",
        "y_pred_test_lof = clf.predict(X_test)\n",
        "\n",
        "precision_lof = metrics.precision_score(y_true, y_pred_test_lof)\n",
        "recall_lof = metrics.recall_score(y_true, y_pred_test_lof)\n",
        "f1_score_lof = metrics.f1_score(y_true, y_pred_test_lof)\n",
        "# Calculate ROC curve\n",
        "fpr3, tpr3, _ = roc_curve(y_true, y_pred_test_lof)\n",
        "\n",
        "# Calculate AUC (Area Under the ROC Curve)\n",
        "auc_roc_lof = auc(fpr3, tpr3)\n",
        "print(\" Precision:{:.4f}\".format(precision_lof))\n",
        "print(\" Recall:{:.4f}\".format(recall_lof))\n",
        "print(\" F1-score:{:.4f}\".format(f1_score_lof))\n",
        "print(\" AUC-ROC:{:.4f}\".format(auc_roc_lof))"
      ]
    }
  ],
  "metadata": {
    "colab": {
      "authorship_tag": "ABX9TyNoqcvjrGFV6Uqfgx/SzusU",
      "provenance": []
    },
    "kernelspec": {
      "display_name": "Python 3",
      "name": "python3"
    },
    "language_info": {
      "name": "python"
    }
  },
  "nbformat": 4,
  "nbformat_minor": 0
}
