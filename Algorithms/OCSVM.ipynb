{
 "cells": [
  {
   "cell_type": "code",
   "execution_count": null,
   "metadata": {},
   "outputs": [],
   "source": [
    "import pandas as pd\n",
    "from sklearn.svm import OneClassSVM\n",
    "import sklearn.metrics as metrics\n",
    "from sklearn.metrics import roc_curve, auc\n",
    "import math"
   ]
  },
  {
   "cell_type": "code",
   "execution_count": null,
   "metadata": {},
   "outputs": [],
   "source": [
    "data = pd.read_csv('15_Hepatitis.csv')\n",
    "\n",
    "X = data.iloc[:, :-1].values  # Use .values to convert to a NumPy array\n",
    "y = data.iloc[:, -1].values\n",
    "\n",
    "X_train=[]\n",
    "\n",
    "normal_data = X[y == 0]\n",
    "\n",
    "train_threshold = math.floor(0.7 * len(data))\n",
    "for i in range(train_threshold):\n",
    "    X_train.append(normal_data[i])\n",
    "\n",
    "X_test=X"
   ]
  },
  {
   "cell_type": "code",
   "execution_count": null,
   "metadata": {},
   "outputs": [],
   "source": [
    "clf = OneClassSVM().fit(X_train)\n",
    "y_pred_test_ocsvm = clf.predict(X_test)\n",
    "\n",
    "\n",
    "\n",
    "for itr in range(len(y_pred_test_ocsvm)):\n",
    "    if y_pred_test_ocsvm[itr] == 1:\n",
    "        y_pred_test_ocsvm[itr] = 0\n",
    "    else:\n",
    "        y_pred_test_ocsvm[itr] = 1\n",
    "\n",
    "\n",
    "precision_ocsvm = metrics.precision_score(y, y_pred_test_ocsvm)\n",
    "recall_ocsvm = metrics.recall_score(y, y_pred_test_ocsvm)\n",
    "f1_score_ocsvm = metrics.f1_score(y, y_pred_test_ocsvm)\n",
    "\n",
    "\n",
    "fpr1, tpr1, _ = roc_curve(y, y_pred_test_ocsvm)\n",
    "auc_roc_ocsvm = auc(fpr1, tpr1)\n",
    "\n",
    "print(\" Precision:{:.2f}\".format(precision_ocsvm))\n",
    "print(\" Recall:{:.2f}\".format(recall_ocsvm))\n",
    "print(\" F1-score:{:.2f}\".format(f1_score_ocsvm))\n",
    "print(\" AUC-ROC:{:.2f}\".format(auc_roc_ocsvm))"
   ]
  }
 ],
 "metadata": {
  "language_info": {
   "name": "python"
  }
 },
 "nbformat": 4,
 "nbformat_minor": 2
}
