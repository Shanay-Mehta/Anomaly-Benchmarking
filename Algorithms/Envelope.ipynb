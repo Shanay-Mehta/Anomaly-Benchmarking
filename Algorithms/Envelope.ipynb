{
  "nbformat": 4,
  "nbformat_minor": 0,
  "metadata": {
    "colab": {
      "provenance": [],
      "authorship_tag": "ABX9TyNoEDn28/Mgj3U42PORrHj2"
    },
    "kernelspec": {
      "name": "python3",
      "display_name": "Python 3"
    },
    "language_info": {
      "name": "python"
    }
  },
  "cells": [
    {
      "cell_type": "code",
      "source": [
        "import pandas as pd\n",
        "from sklearn.model_selection import train_test_split\n",
        "from sklearn.covariance import EllipticEnvelope\n",
        "import sklearn.metrics as metrics\n",
        "from sklearn.metrics import roc_curve, auc"
      ],
      "metadata": {
        "id": "KA4Uo17UusmR"
      },
      "execution_count": null,
      "outputs": []
    },
    {
      "cell_type": "code",
      "source": [
        "data = pd.read_csv('4_breastw.csv')\n",
        "y_true=data.iloc[:, -1]\n",
        "result = data.iloc[:, :-1]\n",
        "\n",
        "# Split the data into training and testing sets\n",
        "X_train, X_test, y_train, y_test = train_test_split(result, y_true, test_size=0.3, random_state=42)\n",
        "X_test=result"
      ],
      "metadata": {
        "id": "mH6QyKo2ukca"
      },
      "execution_count": null,
      "outputs": []
    },
    {
      "cell_type": "code",
      "execution_count": null,
      "metadata": {
        "id": "U8qP-9P6ubUh"
      },
      "outputs": [],
      "source": [
        "cov = EllipticEnvelope(random_state=42).fit(X_train)\n",
        "# Now we can use predict method. It will return 1 for an inlier and -1 for an outlier.\n",
        "y_pred_test_env = cov.predict(X_test)\n",
        "\n",
        "for itr in range(len(y_pred_test_env)):\n",
        "    if y_pred_test_env[itr] == 1:\n",
        "        y_pred_test_env[itr] = 0\n",
        "    else:\n",
        "        y_pred_test_env[itr] = 1\n",
        "\n",
        "precision_env = metrics.precision_score(y_true, y_pred_test_env)\n",
        "recall_env = metrics.recall_score(y_true, y_pred_test_env)\n",
        "f1_score_env = metrics.f1_score(y_true, y_pred_test_env)\n",
        "# Calculate ROC curve\n",
        "fpr2, tpr2, _ = roc_curve(y_true, y_pred_test_env)\n",
        "# Calculate AUC (Area Under the ROC Curve)\n",
        "auc_roc_env = auc(fpr2, tpr2)\n",
        "print(\" Precision:{:.4f}\".format(precision_env))\n",
        "print(\" Recall:{:.4f}\".format(recall_env))\n",
        "print(\" F1-score:{:.4f}\".format(f1_score_env))\n",
        "print(\" AUC-ROC:{:.4f}\".format(auc_roc_env))"
      ]
    }
  ]
}