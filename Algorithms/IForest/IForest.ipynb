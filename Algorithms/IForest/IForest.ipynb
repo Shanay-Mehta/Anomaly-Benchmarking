{
  "nbformat": 4,
  "nbformat_minor": 0,
  "metadata": {
    "colab": {
      "provenance": [],
      "authorship_tag": "ABX9TyOqDa9JMXp6bsjn3/wYrJnR"
    },
    "kernelspec": {
      "name": "python3",
      "display_name": "Python 3"
    },
    "language_info": {
      "name": "python"
    }
  },
  "cells": [
    {
      "cell_type": "code",
      "source": [
        "import pandas as pd\n",
        "from sklearn.model_selection import train_test_split\n",
        "from sklearn.ensemble import IsolationForest\n",
        "import sklearn.metrics as metrics\n",
        "from sklearn.metrics import roc_curve, auc"
      ],
      "metadata": {
        "id": "c98djp48sFcB"
      },
      "execution_count": null,
      "outputs": []
    },
    {
      "cell_type": "code",
      "source": [
        "data = pd.read_csv('4_breastw.csv')\n",
        "y_true=data.iloc[:, -1]\n",
        "result = data.iloc[:, :-1]\n",
        "\n",
        "# Split the data into training and testing sets\n",
        "X_train, X_test, y_train, y_test = train_test_split(result, y_true, test_size=0.3, random_state=42)\n",
        "X_test=result"
      ],
      "metadata": {
        "id": "tPtgBainr8HK"
      },
      "execution_count": null,
      "outputs": []
    },
    {
      "cell_type": "code",
      "execution_count": null,
      "metadata": {
        "id": "8rSXsU-TrqDi"
      },
      "outputs": [],
      "source": [
        "clf = IsolationForest(n_estimators=100, max_samples='auto', contamination=float(0.12),\n",
        "                      bootstrap=False, n_jobs=-1, random_state=42, verbose=0)\n",
        "clf.fit(X_train)\n",
        "# predictions\n",
        "y_pred_train_if = clf.predict(X_train)\n",
        "y_pred_test_if = clf.predict(X_test)\n",
        "\n",
        "\n",
        "for itr in range(len(y_pred_test_if)):\n",
        "    if y_pred_test_if[itr] == 1:\n",
        "        y_pred_test_if[itr] = 0\n",
        "    else:\n",
        "        y_pred_test_if[itr] = 1\n",
        "\n",
        "\n",
        "precision_if = metrics.precision_score(y_true, y_pred_test_if)\n",
        "recall_if = metrics.recall_score(y_true, y_pred_test_if)\n",
        "f1_score_if = metrics.f1_score(y_true, y_pred_test_if)\n",
        "\n",
        "# Calculate ROC curve\n",
        "fpr1, tpr1, _ = roc_curve(y_true, y_pred_test_if)\n",
        "# Calculate AUC (Area Under the ROC Curve)\n",
        "auc_roc_if = auc(fpr1, tpr1)\n",
        "\n",
        "print(\" Precision:{:.4f}\".format(precision_if))\n",
        "print(\" Recall:{:.4f}\".format(recall_if))\n",
        "print(\" F1-score:{:.4f}\".format(f1_score_if))\n",
        "print(\" AUC-ROC:{:.4f}\".format(auc_roc_if))"
      ]
    }
  ]
}