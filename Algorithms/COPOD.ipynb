{
  "nbformat": 4,
  "nbformat_minor": 0,
  "metadata": {
    "colab": {
      "provenance": [],
      "authorship_tag": "ABX9TyMFe/BjJyhaLMc3rfkMalUH"
    },
    "kernelspec": {
      "name": "python3",
      "display_name": "Python 3"
    },
    "language_info": {
      "name": "python"
    }
  },
  "cells": [
    {
      "cell_type": "code",
      "execution_count": null,
      "metadata": {
        "id": "00oI476KjdtS"
      },
      "outputs": [],
      "source": [
        "!pip install pyod"
      ]
    },
    {
      "cell_type": "code",
      "source": [
        "import numpy as np\n",
        "import pandas as pd\n",
        "import math\n",
        "import sklearn.metrics as metrics\n",
        "from sklearn.metrics import roc_curve, auc\n",
        "from pyod.models.copod import COPOD"
      ],
      "metadata": {
        "id": "CZUHqVfKjtvh"
      },
      "execution_count": null,
      "outputs": []
    },
    {
      "cell_type": "code",
      "source": [
        "data = pd.read_csv('23_mammography.csv')"
      ],
      "metadata": {
        "id": "fNyEQ839juwm"
      },
      "execution_count": null,
      "outputs": []
    },
    {
      "cell_type": "code",
      "source": [
        "X = data.iloc[:, :-1].values\n",
        "y_true = data.iloc[:, -1].values\n",
        "\n",
        "X_train=[]\n",
        "\n",
        "normal_data = X[y_true == 0]\n",
        "\n",
        "\n",
        "train_threshold = math.floor(0.7 * len(data))\n",
        "for i in range(train_threshold):\n",
        "    X_train.append(normal_data[i])\n",
        "# X_train=normal_data\n",
        "X_test=X\n",
        "X_train = np.array(X_train)"
      ],
      "metadata": {
        "id": "pNtIMcTrjwBU"
      },
      "execution_count": null,
      "outputs": []
    },
    {
      "cell_type": "code",
      "source": [
        "clf_copod = COPOD().fit(X_train)\n",
        "y_pred_test_copod = clf_copod.predict(X_test)\n",
        "\n",
        "precision_copod = metrics.precision_score(y_true, y_pred_test_copod)\n",
        "recall_copod = metrics.recall_score(y_true, y_pred_test_copod)\n",
        "f1_score_copod = metrics.f1_score(y_true, y_pred_test_copod)\n",
        "\n",
        "# Calculate ROC curve\n",
        "fpr_copod, tpr_copod, _ = roc_curve(y_true, y_pred_test_copod)\n",
        "\n",
        "# Calculate AUC (Area Under the ROC Curve)\n",
        "auc_roc_copod = auc(fpr_copod, tpr_copod)\n",
        "\n",
        "print(\"Precision for COPOD: {:.4f}\".format(precision_copod))\n",
        "print(\"Recall for COPOD: {:.4f}\".format(recall_copod))\n",
        "print(\"F1-score for COPOD: {:.4f}\".format(f1_score_copod))\n",
        "print(\"AUC-ROC for COPOD: {:.4f}\".format(auc_roc_copod))"
      ],
      "metadata": {
        "id": "VlWZk3urjxrj"
      },
      "execution_count": null,
      "outputs": []
    }
  ]
}