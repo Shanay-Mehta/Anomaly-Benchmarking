{
  "nbformat": 4,
  "nbformat_minor": 0,
  "metadata": {
    "colab": {
      "provenance": [],
      "authorship_tag": "ABX9TyOVlP9AZOd8PjWf1E1uLMON"
    },
    "kernelspec": {
      "name": "python3",
      "display_name": "Python 3"
    },
    "language_info": {
      "name": "python"
    }
  },
  "cells": [
    {
      "cell_type": "code",
      "execution_count": null,
      "metadata": {
        "id": "bOTbw6MP7TS5"
      },
      "outputs": [],
      "source": [
        "!pip install deepod"
      ]
    },
    {
      "cell_type": "code",
      "source": [
        "# Clone the DeepOD repository\n",
        "# !git clone https://github.com/xuhongzuo/DeepOD.git\n",
        "\n",
        "# Import necessary libraries\n",
        "import pandas as pd\n",
        "import matplotlib.pyplot as plt\n",
        "import numpy as np\n",
        "from sklearn.model_selection import train_test_split\n",
        "from sklearn.metrics import accuracy_score, precision_score, recall_score, f1_score, confusion_matrix, roc_curve, auc\n",
        "import sys\n",
        "from deepod.models.devnet import DevNet\n",
        "import seaborn as sns\n",
        "\n",
        "merged_df = pd.read_csv('2_annthyroid.csv')\n",
        "\n",
        "# Separate features (X) and labels (y) from the DataFrame\n",
        "train_features = merged_df.iloc[:, :-1].values\n",
        "train_labels = merged_df.iloc[:, -1].values\n",
        "\n",
        "# Identify normal and anomaly subsets from the training data\n",
        "normal_data = train_features[train_labels == 0]\n",
        "anomaly_data = train_features[train_labels == 1]\n",
        "\n",
        "# Calculate the number of samples for training\n",
        "total_samples = len(train_features)\n",
        "num_samples_train = int(0.7 * total_samples)\n",
        "num_samples_anomaly = int(0.02 * num_samples_train)\n",
        "\n",
        "# Randomly select the samples for the training set\n",
        "np.random.shuffle(normal_data)  # Shuffle the normal data randomly\n",
        "\n",
        "# Select the desired portions of normal and anomaly data for training\n",
        "X_train = np.vstack((normal_data[:num_samples_train - num_samples_anomaly], anomaly_data[:num_samples_anomaly]))\n",
        "y_train = np.hstack((np.zeros(len(normal_data[:num_samples_train - num_samples_anomaly])), np.ones(len(anomaly_data[:num_samples_anomaly]))))\n",
        "\n",
        "# Separate features and labels for the test set (assuming you've prepared it)\n",
        "test_features = merged_df.iloc[:, :-1].values\n",
        "test_labels = merged_df.iloc[:, -1].values\n",
        "\n",
        "# Initialize and train the DevNet model with 10 epochs\n",
        "devnet_model = DevNet(epochs=10)\n",
        "devnet_model.fit(X_train, y_train)\n",
        "# train_labels use 1 for known anomalies and 0 for unlabeled data\n",
        "\n",
        "# Make predictions on the test set\n",
        "predictions = devnet_model.predict(test_features)\n",
        "print(predictions)\n",
        "\n",
        "# Obtain anomaly scores for the test set\n",
        "scores = devnet_model.decision_function(test_features)\n",
        "print(scores)\n",
        "\n",
        "# Calculate evaluation metrics\n",
        "accuracy = accuracy_score(test_labels, predictions)\n",
        "precision_devnet = precision_score(test_labels, predictions)\n",
        "recall_devnet = recall_score(test_labels, predictions)\n",
        "f1_score_devnet = f1_score(test_labels, predictions)\n",
        "confusion = confusion_matrix(test_labels, predictions)\n",
        "\n",
        "# Compute the False Positive Rate (FPR), True Positive Rate (TPR), and threshold values for the ROC curve\n",
        "fpr7, tpr7, thresholds = roc_curve(test_labels, predictions)\n",
        "\n",
        "# Calculate the Area Under the ROC Curve (AUC)\n",
        "auc_roc_devnet = auc(fpr7, tpr7)\n",
        "print(\"DevNet\")\n",
        "print(\" Precision:{:.4f}\".format(precision_devnet))\n",
        "print(\" Recall:{:.4f}\".format(recall_devnet))\n",
        "print(\" F1-score:{:.4f}\".format(f1_score_devnet))\n",
        "print(\" AUC-ROC:{:.4f}\".format(auc_roc_devnet))\n"
      ],
      "metadata": {
        "id": "w7BmhNWY7gci"
      },
      "execution_count": null,
      "outputs": []
    }
  ]
}