{
  "nbformat": 4,
  "nbformat_minor": 0,
  "metadata": {
    "colab": {
      "provenance": [],
      "authorship_tag": "ABX9TyOfb5IrTwrln0z94Gjmg2VW"
    },
    "kernelspec": {
      "name": "python3",
      "display_name": "Python 3"
    },
    "language_info": {
      "name": "python"
    }
  },
  "cells": [
    {
      "cell_type": "code",
      "execution_count": null,
      "metadata": {
        "id": "00oI476KjdtS"
      },
      "outputs": [],
      "source": [
        "!pip install pyod"
      ]
    },
    {
      "cell_type": "code",
      "source": [
        "import numpy as np\n",
        "import pandas as pd\n",
        "import math\n",
        "import sklearn.metrics as metrics\n",
        "from sklearn.metrics import roc_curve, auc\n",
        "from pyod.models.pca import PCA"
      ],
      "metadata": {
        "id": "CZUHqVfKjtvh"
      },
      "execution_count": null,
      "outputs": []
    },
    {
      "cell_type": "code",
      "source": [
        "data = pd.read_csv('23_mammography.csv')"
      ],
      "metadata": {
        "id": "fNyEQ839juwm"
      },
      "execution_count": null,
      "outputs": []
    },
    {
      "cell_type": "code",
      "source": [
        "X = data.iloc[:, :-1].values\n",
        "y_true = data.iloc[:, -1].values\n",
        "\n",
        "X_train=[]\n",
        "\n",
        "normal_data = X[y_true == 0]\n",
        "\n",
        "\n",
        "train_threshold = math.floor(0.7 * len(data))\n",
        "for i in range(train_threshold):\n",
        "    X_train.append(normal_data[i])\n",
        "# X_train=normal_data\n",
        "X_test=X\n",
        "X_train = np.array(X_train)"
      ],
      "metadata": {
        "id": "pNtIMcTrjwBU"
      },
      "execution_count": null,
      "outputs": []
    },
    {
      "cell_type": "code",
      "source": [
        "clf_pca = PCA().fit(X_train)\n",
        "y_pred_test_pca = clf_pca.predict(X_test)\n",
        "\n",
        "precision_pca = metrics.precision_score(y_true, y_pred_test_pca)\n",
        "recall_pca = metrics.recall_score(y_true, y_pred_test_pca)\n",
        "f1_score_pca = metrics.f1_score(y_true, y_pred_test_pca)\n",
        "\n",
        "# Calculate ROC curve\n",
        "fpr_pca, tpr_pca, _ = roc_curve(y_true, y_pred_test_pca)\n",
        "\n",
        "# Calculate AUC (Area Under the ROC Curve)\n",
        "auc_roc_pca = auc(fpr_pca, tpr_pca)\n",
        "\n",
        "print(\"Precision for PCA: {:.4f}\".format(precision_pca))\n",
        "print(\"Recall for PCA: {:.4f}\".format(recall_pca))\n",
        "print(\"F1-score for PCA: {:.4f}\".format(f1_score_pca))\n",
        "print(\"AUC-ROC for PCA: {:.4f}\".format(auc_roc_pca))"
      ],
      "metadata": {
        "id": "VlWZk3urjxrj"
      },
      "execution_count": null,
      "outputs": []
    }
  ]
}